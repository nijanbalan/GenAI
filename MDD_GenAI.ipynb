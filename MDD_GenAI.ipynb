{
 "cells": [
  {
   "cell_type": "code",
   "execution_count": 1,
   "id": "7276ea00-7f82-4e3e-b35a-5fecccf0507d",
   "metadata": {},
   "outputs": [
    {
     "name": "stdout",
     "output_type": "stream",
     "text": [
      "./docs\n",
      "1460210.pdf\n",
      "Processing: 1460210.pdf\n",
      "6_irp681.pdf\n",
      "Processing: 6_irp681.pdf\n",
      "adatis-azure-national-archives.pdf\n",
      "Processing: adatis-azure-national-archives.pdf\n",
      "DSML.pdf\n",
      "Processing: DSML.pdf\n",
      "Machine - Learning - Tom Mitchell.pdf\n",
      "Processing: Machine - Learning - Tom Mitchell.pdf\n",
      "Machine Learning For Absolute Beginners.pdf\n",
      "Processing: Machine Learning For Absolute Beginners.pdf\n",
      "MACHINE LEARNING(R17A0534).pdf\n",
      "Processing: MACHINE LEARNING(R17A0534).pdf\n",
      "Paper_30-Machine_Learning_Algorithms.pdf\n",
      "Processing: Paper_30-Machine_Learning_Algorithms.pdf\n",
      "thebook.pdf\n",
      "Processing: thebook.pdf\n",
      "Documents have been processed and stored in ChromaDB!\n"
     ]
    }
   ],
   "source": [
    "import os\n",
    "from sentence_transformers import SentenceTransformer\n",
    "from langchain.text_splitter import RecursiveCharacterTextSplitter\n",
    "from PyPDF2 import PdfReader\n",
    "\n",
    "# Initialize SentenceTransformer model for embeddings\n",
    "embedding_model = SentenceTransformer('all-MiniLM-L6-v2')\n",
    "\n",
    "# ChromaDB setup\n",
    "from chromadb.config import Settings\n",
    "import chromadb\n",
    "\n",
    "client = chromadb.Client(Settings(\n",
    "    persist_directory=\"./chroma_db\",  # Directory for persisting data\n",
    "))\n",
    "\n",
    "#client.delete_collection(name=\"mdd_documents\")\n",
    "collection = client.create_collection(\"mdd_documents\")\n",
    "\n",
    "# Load and preprocess documents\n",
    "def preprocess_documents(directory):\n",
    "    \"\"\"\n",
    "    Preprocesses text documents from a given directory and stores their embeddings.\n",
    "    \"\"\"\n",
    "    text_splitter = RecursiveCharacterTextSplitter(chunk_size=500, chunk_overlap=50)\n",
    "    print(directory)\n",
    "    for filename in os.listdir(directory):\n",
    "        print(filename)\n",
    "        if filename.endswith(\".pdf\"):\n",
    "            print(f\"Processing: {filename}\")\n",
    "            try:\n",
    "                # Use PyPDF2 to extract text\n",
    "                pdf_reader = PdfReader(os.path.join(directory, filename))\n",
    "                content = \"\"\n",
    "                for page in pdf_reader.pages:\n",
    "                    content += page.extract_text()\n",
    "                \n",
    "                # Check if content was successfully extracted\n",
    "                if not content.strip():\n",
    "                    print(f\"Warning: No text found in {filename}\")\n",
    "                    continue\n",
    "\n",
    "                # Split text into smaller chunks\n",
    "                chunks = text_splitter.split_text(content)\n",
    "                \n",
    "                # Embed each chunk\n",
    "                embeddings = embedding_model.encode(chunks)\n",
    "                # Add to ChromaDB\n",
    "                for i, chunk in enumerate(chunks):\n",
    "                    collection.add(\n",
    "                        documents=[chunk],\n",
    "                        metadatas=[{\"source\": filename}],\n",
    "                        ids=[f\"{filename}_{i}\"],\n",
    "                        embeddings=embedding_model.encode(chunk)\n",
    "                    )\n",
    "            except Exception as e:\n",
    "                print(f\"Error processing {filename}: {e}\")\n",
    "    print(\"Documents have been processed and stored in ChromaDB!\")\n",
    "\n",
    "# Run preprocessing (adjust path to your document folder)\n",
    "if __name__ == \"__main__\":\n",
    "    preprocess_documents(\"./docs\")"
   ]
  },
  {
   "cell_type": "code",
   "execution_count": 2,
   "id": "2799ab1d-881f-4a46-99f3-f46e4dc809c8",
   "metadata": {},
   "outputs": [
    {
     "data": {
      "text/plain": [
       "{'ids': ['1460210.pdf_1'],\n",
       " 'embeddings': None,\n",
       " 'documents': ['Many researchers try to collect and extract this information in large enough quantities that it requires machine automation. But because\\npublications were historically intended for print and not machine consumption, the digital document formats used today (primarily PDF)\\nhave created many hurdles for information extraction. Primarily, tools have relied on trying to convert PDF documents to plain text for'],\n",
       " 'uris': None,\n",
       " 'data': None,\n",
       " 'metadatas': [{'source': '1460210.pdf'}],\n",
       " 'included': [<IncludeEnum.documents: 'documents'>,\n",
       "  <IncludeEnum.metadatas: 'metadatas'>]}"
      ]
     },
     "execution_count": 2,
     "metadata": {},
     "output_type": "execute_result"
    }
   ],
   "source": [
    "collection.get(ids=['1460210.pdf_1'])"
   ]
  },
  {
   "cell_type": "code",
   "execution_count": 5,
   "id": "6919b661-48c7-473d-a170-ac38dd877ac7",
   "metadata": {},
   "outputs": [
    {
     "data": {
      "text/plain": [
       "array([[-7.50970319e-02,  1.17351096e-02, -1.14841014e-01,\n",
       "         1.40069714e-02,  4.32890505e-02,  2.28892118e-02,\n",
       "        -6.41679838e-02, -7.31650889e-02, -1.19264843e-02,\n",
       "        -6.23673499e-02,  3.05247214e-02,  2.01456770e-02,\n",
       "        -2.18213648e-02,  6.75240010e-02, -8.25160220e-02,\n",
       "        -7.40731508e-02, -6.08922727e-03, -9.28646885e-03,\n",
       "        -1.54298842e-02,  1.04545774e-02, -6.35114834e-02,\n",
       "         9.47635993e-03,  5.42435683e-02, -6.09579980e-02,\n",
       "         2.45148409e-02,  1.47313951e-02, -8.56740922e-02,\n",
       "        -1.95289366e-02, -4.76937816e-02, -6.65004775e-02,\n",
       "         1.32352754e-01,  4.07528691e-02, -2.03969260e-03,\n",
       "         1.81031320e-02,  1.06654368e-01,  4.04617004e-02,\n",
       "        -4.40376885e-02, -3.45940068e-02,  1.14347503e-01,\n",
       "         1.52585702e-03,  2.62608845e-02, -7.81196579e-02,\n",
       "         1.84115674e-02,  2.65086908e-02,  1.44533589e-02,\n",
       "        -4.39289771e-02, -2.26655807e-02,  1.95012018e-02,\n",
       "         4.86139730e-02,  6.80080876e-02, -1.99042354e-02,\n",
       "         4.41402234e-02, -3.42644081e-02,  3.85189541e-02,\n",
       "         1.28648520e-01, -3.05237416e-02,  7.30262324e-02,\n",
       "         4.50023450e-03, -6.15194887e-02, -6.66502938e-02,\n",
       "        -2.16215365e-02, -6.36305287e-02, -5.87260388e-02,\n",
       "         1.80943143e-02, -1.70415279e-03,  8.07961673e-02,\n",
       "        -4.50587682e-02,  1.02196798e-01, -1.76431686e-02,\n",
       "         2.03173403e-02, -1.43111367e-02,  1.01875879e-01,\n",
       "        -2.56150123e-03,  1.86632182e-02,  1.78471860e-02,\n",
       "        -1.23216650e-02,  8.46913271e-03,  1.54271210e-02,\n",
       "        -3.14340182e-02, -1.39038563e-01,  2.25714035e-02,\n",
       "         7.74822198e-03,  5.43465987e-02,  2.87980121e-02,\n",
       "         4.51811887e-02, -1.09717831e-01,  3.24315727e-02,\n",
       "        -1.84308328e-02, -6.05848208e-02, -1.64762768e-03,\n",
       "         4.42496687e-02,  6.72379732e-02, -1.43685425e-02,\n",
       "         1.31583540e-02, -5.40705249e-02,  4.43556346e-02,\n",
       "         4.39721867e-02, -8.61603022e-02,  1.79560911e-02,\n",
       "         1.02850527e-01,  1.05926338e-04, -1.84015743e-02,\n",
       "         5.73300272e-02, -9.56152380e-02, -1.08699173e-01,\n",
       "        -7.43785575e-02,  7.18168467e-02, -2.38507204e-02,\n",
       "        -1.34052394e-03, -9.10346359e-02,  2.39188019e-02,\n",
       "        -7.89599493e-03, -3.16409245e-02, -1.86202172e-02,\n",
       "         1.51006160e-02, -4.60841097e-02, -7.92988762e-03,\n",
       "        -6.52145445e-02, -5.74651212e-02, -3.78969172e-03,\n",
       "        -1.17114626e-01,  5.33524826e-02, -5.87410890e-02,\n",
       "         1.00960508e-01, -5.49312048e-02,  1.26638105e-02,\n",
       "        -1.70319329e-03, -1.38611126e-33, -6.51671439e-02,\n",
       "        -3.20065604e-03, -7.51588717e-02, -2.25195140e-02,\n",
       "         6.00365847e-02,  1.32580884e-02, -4.64444645e-02,\n",
       "        -3.93692032e-02, -6.31312095e-03, -9.77758039e-03,\n",
       "        -6.95040673e-02,  2.56788004e-02, -8.66058394e-02,\n",
       "         6.61242232e-02, -3.13861482e-02, -2.28118002e-02,\n",
       "        -3.09745129e-02,  9.60932523e-02, -1.62050799e-02,\n",
       "        -1.01573113e-02,  3.30613623e-03,  2.06885580e-03,\n",
       "         1.64374132e-02,  3.17598395e-02, -2.57788785e-02,\n",
       "         6.87873736e-02,  8.91844835e-03, -1.01545244e-03,\n",
       "        -3.21815610e-02,  6.97569130e-03, -2.68619228e-02,\n",
       "         4.44984734e-02,  1.45491278e-02,  7.38137448e-03,\n",
       "         3.30225714e-02, -6.90329447e-03,  1.71971880e-02,\n",
       "        -4.30057244e-03, -6.17814891e-04, -4.93298508e-02,\n",
       "        -4.51831371e-02,  3.05117778e-02,  3.22882198e-02,\n",
       "         1.80415157e-02, -9.35316384e-02, -1.05423760e-02,\n",
       "         4.14784364e-02, -9.67371911e-02,  5.97111098e-02,\n",
       "        -7.71526247e-02,  9.71015263e-03, -5.64866327e-02,\n",
       "        -1.20799309e-02, -2.39174198e-02,  8.71131103e-03,\n",
       "        -3.28303501e-03, -6.51596673e-03, -1.92636866e-02,\n",
       "         2.36891098e-02, -2.29858141e-02,  9.93311778e-02,\n",
       "         1.63170919e-02, -4.88846675e-02, -4.17533703e-02,\n",
       "        -2.47908439e-02, -2.21611448e-02, -1.14958584e-02,\n",
       "         7.96140656e-02,  1.08390488e-01, -3.11222933e-02,\n",
       "         1.16611766e-02,  2.99905837e-02,  8.81052911e-02,\n",
       "        -7.86707401e-02,  5.65634854e-02,  8.10899362e-02,\n",
       "         7.36859860e-03,  6.35001138e-02,  4.49953824e-02,\n",
       "        -2.15179492e-02, -1.79190952e-02,  3.31753492e-02,\n",
       "         8.14066976e-02, -6.31316528e-02, -3.01163085e-02,\n",
       "         3.82446051e-02, -1.46838063e-02, -4.97273803e-02,\n",
       "        -1.53623642e-02,  2.36582309e-02, -4.94588492e-03,\n",
       "        -1.90244745e-02, -1.92106273e-02, -5.81395030e-02,\n",
       "         9.50611010e-02, -6.57486684e-34, -1.00272752e-01,\n",
       "         1.84502099e-02, -5.95897287e-02,  5.29849380e-02,\n",
       "         1.89049616e-02,  7.54823238e-02, -1.77560627e-01,\n",
       "         2.71565537e-03,  2.35377811e-02,  7.98235927e-03,\n",
       "        -7.81702343e-03, -2.95820627e-02, -9.63919386e-02,\n",
       "        -8.18762109e-02, -1.91764683e-02, -1.10168658e-01,\n",
       "         3.10216863e-02, -2.47531962e-02,  3.23322453e-02,\n",
       "         1.62723772e-02,  2.29023397e-03,  5.12335375e-02,\n",
       "        -2.24897582e-02,  8.88057649e-02,  6.31361827e-03,\n",
       "        -3.95889999e-03,  6.24289922e-03,  1.58103686e-02,\n",
       "        -5.02422452e-02, -1.60097368e-02, -2.12350935e-02,\n",
       "        -3.91163044e-02, -3.33734602e-02,  1.09069273e-01,\n",
       "        -1.18939597e-02,  2.74809524e-02,  3.90406046e-03,\n",
       "         2.54117604e-02, -1.24992877e-02, -2.40995046e-02,\n",
       "         6.06963411e-02,  7.38677382e-02, -8.13013595e-03,\n",
       "        -5.97935356e-02,  4.88979090e-03, -2.80606449e-02,\n",
       "        -3.14105526e-02,  4.39318866e-02,  7.78554752e-02,\n",
       "         4.27611964e-03, -8.10438476e-04,  1.48131046e-02,\n",
       "        -5.32846861e-02, -3.47424373e-02, -1.02063544e-01,\n",
       "         4.50709425e-02, -1.46762738e-02, -3.36655118e-02,\n",
       "         1.56624228e-04,  8.26777145e-02, -7.20643848e-02,\n",
       "        -1.40123302e-02, -1.21908393e-02, -1.78630035e-02,\n",
       "        -1.16766132e-04,  1.15864705e-02, -1.23230010e-01,\n",
       "         1.47237452e-02,  3.47978286e-02,  5.47331050e-02,\n",
       "         8.67471918e-02, -9.74110439e-02,  3.01934164e-02,\n",
       "         3.11674420e-02,  1.99833582e-03, -2.88308077e-02,\n",
       "         1.41014867e-02,  1.90599859e-02,  2.03718226e-02,\n",
       "         1.92999337e-02,  3.43665071e-02,  2.38257740e-02,\n",
       "        -2.47663856e-02,  7.06031322e-02,  1.99965984e-02,\n",
       "         5.27224652e-02, -5.18786255e-03, -6.13459162e-02,\n",
       "         1.72742177e-02, -2.66144089e-02,  4.70883474e-02,\n",
       "         8.52008760e-02, -4.63333959e-03, -2.94787847e-02,\n",
       "         6.25857618e-03, -1.68328977e-08, -4.33853194e-02,\n",
       "         6.69267550e-02,  2.39656419e-02, -5.76866511e-03,\n",
       "         1.25225157e-01,  4.21165302e-02, -3.78854643e-03,\n",
       "         1.07675157e-01, -5.88600002e-02, -5.83341951e-03,\n",
       "         9.40234065e-02, -8.49277303e-02, -3.52813154e-02,\n",
       "        -9.39754397e-02, -3.64747830e-02,  5.63126132e-02,\n",
       "         3.00469082e-02,  2.22213641e-02, -3.57528664e-02,\n",
       "         1.34625686e-02,  5.59226871e-02,  4.97169308e-02,\n",
       "        -7.97016639e-03, -5.07780490e-03, -2.83774268e-02,\n",
       "        -6.84182346e-02, -2.29736250e-02,  6.37290105e-02,\n",
       "         4.20268327e-02, -3.25444271e-03, -1.40477382e-02,\n",
       "         1.66660156e-02, -7.99150616e-02,  1.90427583e-02,\n",
       "         2.11369107e-03,  1.21562287e-01,  1.01090930e-01,\n",
       "         2.13771649e-02, -3.91910300e-02,  3.09898076e-03,\n",
       "         4.14411463e-02,  2.36044470e-02, -3.35430130e-02,\n",
       "        -2.80884542e-02, -3.63692939e-02,  2.07616407e-02,\n",
       "        -1.07046878e-02, -3.85512710e-02,  4.10996564e-02,\n",
       "         1.65430922e-02,  3.63904797e-02, -2.34808568e-02,\n",
       "         3.49081270e-02,  1.00548357e-01, -7.66646415e-02,\n",
       "        -2.37497482e-02,  3.17066908e-02,  6.15781695e-02,\n",
       "         1.69633273e-02,  5.82019798e-02,  4.77320850e-02,\n",
       "        -2.04361901e-02,  3.90725322e-02,  9.11514759e-02]], dtype=float32)"
      ]
     },
     "execution_count": 5,
     "metadata": {},
     "output_type": "execute_result"
    }
   ],
   "source": [
    "chunks = [\n",
    "    \"DeepPDF: A Deep Learning Approach to Analyzing PDFs\\nChristopher Stahl...\"\n",
    "]\n",
    "embeddings = embedding_model.encode(chunks)\n",
    "embeddings"
   ]
  },
  {
   "cell_type": "code",
   "execution_count": 9,
   "id": "aad1476c-fbb2-4cc8-b2f7-837a0c062663",
   "metadata": {},
   "outputs": [],
   "source": [
    "collection.add(\n",
    "    documents=chunks,\n",
    "    metadatas=[{\"source\": \"1460210.pdf\"}],\n",
    "    ids=[\"1460210.pd_0\"],\n",
    "    embeddings=embeddings  # Ensure this parameter is not None\n",
    ")"
   ]
  },
  {
   "cell_type": "code",
   "execution_count": 10,
   "id": "9d3a3641-6d53-42e9-82f5-ff99ce2b4e11",
   "metadata": {},
   "outputs": [
    {
     "data": {
      "text/plain": [
       "{'ids': ['1460210.pd_0'],\n",
       " 'embeddings': None,\n",
       " 'documents': ['DeepPDF: A Deep Learning Approach to Analyzing PDFs\\nChristopher Stahl...'],\n",
       " 'uris': None,\n",
       " 'data': None,\n",
       " 'metadatas': [{'source': '1460210.pdf'}],\n",
       " 'included': [<IncludeEnum.documents: 'documents'>,\n",
       "  <IncludeEnum.metadatas: 'metadatas'>]}"
      ]
     },
     "execution_count": 10,
     "metadata": {},
     "output_type": "execute_result"
    }
   ],
   "source": [
    "collection.get(ids=['1460210.pd_0'])"
   ]
  },
  {
   "cell_type": "code",
   "execution_count": 11,
   "id": "d28946dc-3c20-46c1-994d-1f611e64b4f0",
   "metadata": {},
   "outputs": [],
   "source": [
    "client = chromadb.Client(Settings(persist_directory=\"./chroma_db\"))"
   ]
  },
  {
   "cell_type": "code",
   "execution_count": null,
   "id": "28166adf-baf2-448d-bf1e-7b217cdc5058",
   "metadata": {},
   "outputs": [],
   "source": []
  },
  {
   "cell_type": "code",
   "execution_count": null,
   "id": "930753ab-93d8-4072-80d6-c81fb5d94c51",
   "metadata": {},
   "outputs": [],
   "source": []
  },
  {
   "cell_type": "code",
   "execution_count": 12,
   "id": "f8aace1c-2460-4e13-824d-347f53cbdad9",
   "metadata": {},
   "outputs": [],
   "source": [
    "from chromadb.config import Settings\n",
    "\n",
    "client = chromadb.Client(Settings(\n",
    "    persist_directory=\"./chroma_db\"  # Ensure this path is correct\n",
    "))"
   ]
  },
  {
   "cell_type": "code",
   "execution_count": 13,
   "id": "8a010a2b-9b80-49a1-af4c-cb1dbb807a2c",
   "metadata": {},
   "outputs": [
    {
     "name": "stdout",
     "output_type": "stream",
     "text": [
      "No embeddings found. Check the document addition process.\n"
     ]
    }
   ],
   "source": [
    "results = collection.get()\n",
    "\n",
    "if results['embeddings']:\n",
    "    print(\"Embeddings successfully stored!\")\n",
    "    print(\"Embeddings:\", results['embeddings'])\n",
    "else:\n",
    "    print(\"No embeddings found. Check the document addition process.\")"
   ]
  },
  {
   "cell_type": "code",
   "execution_count": 19,
   "id": "7e92695f-9f19-4856-95d4-45e2913ef05e",
   "metadata": {},
   "outputs": [],
   "source": [
    "client.delete_collection(name=\"mdd_documents1\")\n",
    "collection = client.create_collection(\"mdd_documents1\")"
   ]
  },
  {
   "cell_type": "code",
   "execution_count": 11,
   "id": "2a9b4cc2-1e73-47e3-8bc3-e84806ecbb97",
   "metadata": {},
   "outputs": [
    {
     "name": "stdout",
     "output_type": "stream",
     "text": [
      "[[-7.50970319e-02  1.17351096e-02 -1.14841014e-01  1.40069714e-02\n",
      "   4.32890505e-02  2.28892118e-02 -6.41679838e-02 -7.31650889e-02\n",
      "  -1.19264843e-02 -6.23673499e-02  3.05247214e-02  2.01456770e-02\n",
      "  -2.18213648e-02  6.75240010e-02 -8.25160220e-02 -7.40731508e-02\n",
      "  -6.08922727e-03 -9.28646885e-03 -1.54298842e-02  1.04545774e-02\n",
      "  -6.35114834e-02  9.47635993e-03  5.42435683e-02 -6.09579980e-02\n",
      "   2.45148409e-02  1.47313951e-02 -8.56740922e-02 -1.95289366e-02\n",
      "  -4.76937816e-02 -6.65004775e-02  1.32352754e-01  4.07528691e-02\n",
      "  -2.03969260e-03  1.81031320e-02  1.06654368e-01  4.04617004e-02\n",
      "  -4.40376885e-02 -3.45940068e-02  1.14347503e-01  1.52585702e-03\n",
      "   2.62608845e-02 -7.81196579e-02  1.84115674e-02  2.65086908e-02\n",
      "   1.44533589e-02 -4.39289771e-02 -2.26655807e-02  1.95012018e-02\n",
      "   4.86139730e-02  6.80080876e-02 -1.99042354e-02  4.41402234e-02\n",
      "  -3.42644081e-02  3.85189541e-02  1.28648520e-01 -3.05237416e-02\n",
      "   7.30262324e-02  4.50023450e-03 -6.15194887e-02 -6.66502938e-02\n",
      "  -2.16215365e-02 -6.36305287e-02 -5.87260388e-02  1.80943143e-02\n",
      "  -1.70415279e-03  8.07961673e-02 -4.50587682e-02  1.02196798e-01\n",
      "  -1.76431686e-02  2.03173403e-02 -1.43111367e-02  1.01875879e-01\n",
      "  -2.56150123e-03  1.86632182e-02  1.78471860e-02 -1.23216650e-02\n",
      "   8.46913271e-03  1.54271210e-02 -3.14340182e-02 -1.39038563e-01\n",
      "   2.25714035e-02  7.74822198e-03  5.43465987e-02  2.87980121e-02\n",
      "   4.51811887e-02 -1.09717831e-01  3.24315727e-02 -1.84308328e-02\n",
      "  -6.05848208e-02 -1.64762768e-03  4.42496687e-02  6.72379732e-02\n",
      "  -1.43685425e-02  1.31583540e-02 -5.40705249e-02  4.43556346e-02\n",
      "   4.39721867e-02 -8.61603022e-02  1.79560911e-02  1.02850527e-01\n",
      "   1.05926338e-04 -1.84015743e-02  5.73300272e-02 -9.56152380e-02\n",
      "  -1.08699173e-01 -7.43785575e-02  7.18168467e-02 -2.38507204e-02\n",
      "  -1.34052394e-03 -9.10346359e-02  2.39188019e-02 -7.89599493e-03\n",
      "  -3.16409245e-02 -1.86202172e-02  1.51006160e-02 -4.60841097e-02\n",
      "  -7.92988762e-03 -6.52145445e-02 -5.74651212e-02 -3.78969172e-03\n",
      "  -1.17114626e-01  5.33524826e-02 -5.87410890e-02  1.00960508e-01\n",
      "  -5.49312048e-02  1.26638105e-02 -1.70319329e-03 -1.38611126e-33\n",
      "  -6.51671439e-02 -3.20065604e-03 -7.51588717e-02 -2.25195140e-02\n",
      "   6.00365847e-02  1.32580884e-02 -4.64444645e-02 -3.93692032e-02\n",
      "  -6.31312095e-03 -9.77758039e-03 -6.95040673e-02  2.56788004e-02\n",
      "  -8.66058394e-02  6.61242232e-02 -3.13861482e-02 -2.28118002e-02\n",
      "  -3.09745129e-02  9.60932523e-02 -1.62050799e-02 -1.01573113e-02\n",
      "   3.30613623e-03  2.06885580e-03  1.64374132e-02  3.17598395e-02\n",
      "  -2.57788785e-02  6.87873736e-02  8.91844835e-03 -1.01545244e-03\n",
      "  -3.21815610e-02  6.97569130e-03 -2.68619228e-02  4.44984734e-02\n",
      "   1.45491278e-02  7.38137448e-03  3.30225714e-02 -6.90329447e-03\n",
      "   1.71971880e-02 -4.30057244e-03 -6.17814891e-04 -4.93298508e-02\n",
      "  -4.51831371e-02  3.05117778e-02  3.22882198e-02  1.80415157e-02\n",
      "  -9.35316384e-02 -1.05423760e-02  4.14784364e-02 -9.67371911e-02\n",
      "   5.97111098e-02 -7.71526247e-02  9.71015263e-03 -5.64866327e-02\n",
      "  -1.20799309e-02 -2.39174198e-02  8.71131103e-03 -3.28303501e-03\n",
      "  -6.51596673e-03 -1.92636866e-02  2.36891098e-02 -2.29858141e-02\n",
      "   9.93311778e-02  1.63170919e-02 -4.88846675e-02 -4.17533703e-02\n",
      "  -2.47908439e-02 -2.21611448e-02 -1.14958584e-02  7.96140656e-02\n",
      "   1.08390488e-01 -3.11222933e-02  1.16611766e-02  2.99905837e-02\n",
      "   8.81052911e-02 -7.86707401e-02  5.65634854e-02  8.10899362e-02\n",
      "   7.36859860e-03  6.35001138e-02  4.49953824e-02 -2.15179492e-02\n",
      "  -1.79190952e-02  3.31753492e-02  8.14066976e-02 -6.31316528e-02\n",
      "  -3.01163085e-02  3.82446051e-02 -1.46838063e-02 -4.97273803e-02\n",
      "  -1.53623642e-02  2.36582309e-02 -4.94588492e-03 -1.90244745e-02\n",
      "  -1.92106273e-02 -5.81395030e-02  9.50611010e-02 -6.57486684e-34\n",
      "  -1.00272752e-01  1.84502099e-02 -5.95897287e-02  5.29849380e-02\n",
      "   1.89049616e-02  7.54823238e-02 -1.77560627e-01  2.71565537e-03\n",
      "   2.35377811e-02  7.98235927e-03 -7.81702343e-03 -2.95820627e-02\n",
      "  -9.63919386e-02 -8.18762109e-02 -1.91764683e-02 -1.10168658e-01\n",
      "   3.10216863e-02 -2.47531962e-02  3.23322453e-02  1.62723772e-02\n",
      "   2.29023397e-03  5.12335375e-02 -2.24897582e-02  8.88057649e-02\n",
      "   6.31361827e-03 -3.95889999e-03  6.24289922e-03  1.58103686e-02\n",
      "  -5.02422452e-02 -1.60097368e-02 -2.12350935e-02 -3.91163044e-02\n",
      "  -3.33734602e-02  1.09069273e-01 -1.18939597e-02  2.74809524e-02\n",
      "   3.90406046e-03  2.54117604e-02 -1.24992877e-02 -2.40995046e-02\n",
      "   6.06963411e-02  7.38677382e-02 -8.13013595e-03 -5.97935356e-02\n",
      "   4.88979090e-03 -2.80606449e-02 -3.14105526e-02  4.39318866e-02\n",
      "   7.78554752e-02  4.27611964e-03 -8.10438476e-04  1.48131046e-02\n",
      "  -5.32846861e-02 -3.47424373e-02 -1.02063544e-01  4.50709425e-02\n",
      "  -1.46762738e-02 -3.36655118e-02  1.56624228e-04  8.26777145e-02\n",
      "  -7.20643848e-02 -1.40123302e-02 -1.21908393e-02 -1.78630035e-02\n",
      "  -1.16766132e-04  1.15864705e-02 -1.23230010e-01  1.47237452e-02\n",
      "   3.47978286e-02  5.47331050e-02  8.67471918e-02 -9.74110439e-02\n",
      "   3.01934164e-02  3.11674420e-02  1.99833582e-03 -2.88308077e-02\n",
      "   1.41014867e-02  1.90599859e-02  2.03718226e-02  1.92999337e-02\n",
      "   3.43665071e-02  2.38257740e-02 -2.47663856e-02  7.06031322e-02\n",
      "   1.99965984e-02  5.27224652e-02 -5.18786255e-03 -6.13459162e-02\n",
      "   1.72742177e-02 -2.66144089e-02  4.70883474e-02  8.52008760e-02\n",
      "  -4.63333959e-03 -2.94787847e-02  6.25857618e-03 -1.68328977e-08\n",
      "  -4.33853194e-02  6.69267550e-02  2.39656419e-02 -5.76866511e-03\n",
      "   1.25225157e-01  4.21165302e-02 -3.78854643e-03  1.07675157e-01\n",
      "  -5.88600002e-02 -5.83341951e-03  9.40234065e-02 -8.49277303e-02\n",
      "  -3.52813154e-02 -9.39754397e-02 -3.64747830e-02  5.63126132e-02\n",
      "   3.00469082e-02  2.22213641e-02 -3.57528664e-02  1.34625686e-02\n",
      "   5.59226871e-02  4.97169308e-02 -7.97016639e-03 -5.07780490e-03\n",
      "  -2.83774268e-02 -6.84182346e-02 -2.29736250e-02  6.37290105e-02\n",
      "   4.20268327e-02 -3.25444271e-03 -1.40477382e-02  1.66660156e-02\n",
      "  -7.99150616e-02  1.90427583e-02  2.11369107e-03  1.21562287e-01\n",
      "   1.01090930e-01  2.13771649e-02 -3.91910300e-02  3.09898076e-03\n",
      "   4.14411463e-02  2.36044470e-02 -3.35430130e-02 -2.80884542e-02\n",
      "  -3.63692939e-02  2.07616407e-02 -1.07046878e-02 -3.85512710e-02\n",
      "   4.10996564e-02  1.65430922e-02  3.63904797e-02 -2.34808568e-02\n",
      "   3.49081270e-02  1.00548357e-01 -7.66646415e-02 -2.37497482e-02\n",
      "   3.17066908e-02  6.15781695e-02  1.69633273e-02  5.82019798e-02\n",
      "   4.77320850e-02 -2.04361901e-02  3.90725322e-02  9.11514759e-02]]\n"
     ]
    }
   ],
   "source": [
    "chunks = [\n",
    "    \"DeepPDF: A Deep Learning Approach to Analyzing PDFs\\nChristopher Stahl...\"\n",
    "]\n",
    "embeddings = embedding_model.encode(chunks)\n",
    "print(embeddings)  # Should output a numerical vector for each chunk"
   ]
  },
  {
   "cell_type": "code",
   "execution_count": 14,
   "id": "78c9e7e6-8d55-478e-9514-11e70e433527",
   "metadata": {},
   "outputs": [
    {
     "name": "stdout",
     "output_type": "stream",
     "text": [
      "Embeddings: None\n"
     ]
    }
   ],
   "source": [
    "results = collection.get(ids=[\"1460210.pdf_0\"])\n",
    "print(\"Embeddings:\", results['embeddings'])"
   ]
  },
  {
   "cell_type": "code",
   "execution_count": null,
   "id": "226ede41-d3d1-4fc9-82c8-d9f3147b26bb",
   "metadata": {},
   "outputs": [],
   "source": []
  },
  {
   "cell_type": "code",
   "execution_count": null,
   "id": "06c85e3e-5bdb-4f23-9fb3-b4aaea2910de",
   "metadata": {},
   "outputs": [],
   "source": []
  },
  {
   "cell_type": "code",
   "execution_count": 15,
   "id": "bc6dd920-35a9-4a0e-9bef-174db2c359a8",
   "metadata": {},
   "outputs": [
    {
     "ename": "UniqueConstraintError",
     "evalue": "Collection mdd_documents already exists",
     "output_type": "error",
     "traceback": [
      "\u001b[0;31m---------------------------------------------------------------------------\u001b[0m",
      "\u001b[0;31mUniqueConstraintError\u001b[0m                     Traceback (most recent call last)",
      "Cell \u001b[0;32mIn[15], line 8\u001b[0m\n\u001b[1;32m      6\u001b[0m client \u001b[38;5;241m=\u001b[39m chromadb\u001b[38;5;241m.\u001b[39mClient(Settings(persist_directory\u001b[38;5;241m=\u001b[39m\u001b[38;5;124m\"\u001b[39m\u001b[38;5;124m./chroma_db\u001b[39m\u001b[38;5;124m\"\u001b[39m))\n\u001b[1;32m      7\u001b[0m \u001b[38;5;66;03m#client.delete_collection(\"mdd_documents\")\u001b[39;00m\n\u001b[0;32m----> 8\u001b[0m collection \u001b[38;5;241m=\u001b[39m client\u001b[38;5;241m.\u001b[39mcreate_collection(\u001b[38;5;124m\"\u001b[39m\u001b[38;5;124mmdd_documents\u001b[39m\u001b[38;5;124m\"\u001b[39m)\n\u001b[1;32m     10\u001b[0m \u001b[38;5;66;03m# Initialize embedding model\u001b[39;00m\n\u001b[1;32m     11\u001b[0m embedding_model \u001b[38;5;241m=\u001b[39m SentenceTransformer(\u001b[38;5;124m'\u001b[39m\u001b[38;5;124mall-MiniLM-L6-v2\u001b[39m\u001b[38;5;124m'\u001b[39m)\n",
      "File \u001b[0;32m~/anaconda3/lib/python3.12/site-packages/chromadb/api/client.py:147\u001b[0m, in \u001b[0;36mClient.create_collection\u001b[0;34m(self, name, configuration, metadata, embedding_function, data_loader, get_or_create)\u001b[0m\n\u001b[1;32m    135\u001b[0m \u001b[38;5;129m@override\u001b[39m\n\u001b[1;32m    136\u001b[0m \u001b[38;5;28;01mdef\u001b[39;00m \u001b[38;5;21mcreate_collection\u001b[39m(\n\u001b[1;32m    137\u001b[0m     \u001b[38;5;28mself\u001b[39m,\n\u001b[0;32m   (...)\u001b[0m\n\u001b[1;32m    145\u001b[0m     get_or_create: \u001b[38;5;28mbool\u001b[39m \u001b[38;5;241m=\u001b[39m \u001b[38;5;28;01mFalse\u001b[39;00m,\n\u001b[1;32m    146\u001b[0m ) \u001b[38;5;241m-\u001b[39m\u001b[38;5;241m>\u001b[39m Collection:\n\u001b[0;32m--> 147\u001b[0m     model \u001b[38;5;241m=\u001b[39m \u001b[38;5;28mself\u001b[39m\u001b[38;5;241m.\u001b[39m_server\u001b[38;5;241m.\u001b[39mcreate_collection(\n\u001b[1;32m    148\u001b[0m         name\u001b[38;5;241m=\u001b[39mname,\n\u001b[1;32m    149\u001b[0m         metadata\u001b[38;5;241m=\u001b[39mmetadata,\n\u001b[1;32m    150\u001b[0m         tenant\u001b[38;5;241m=\u001b[39m\u001b[38;5;28mself\u001b[39m\u001b[38;5;241m.\u001b[39mtenant,\n\u001b[1;32m    151\u001b[0m         database\u001b[38;5;241m=\u001b[39m\u001b[38;5;28mself\u001b[39m\u001b[38;5;241m.\u001b[39mdatabase,\n\u001b[1;32m    152\u001b[0m         get_or_create\u001b[38;5;241m=\u001b[39mget_or_create,\n\u001b[1;32m    153\u001b[0m         configuration\u001b[38;5;241m=\u001b[39mconfiguration,\n\u001b[1;32m    154\u001b[0m     )\n\u001b[1;32m    155\u001b[0m     \u001b[38;5;28;01mreturn\u001b[39;00m Collection(\n\u001b[1;32m    156\u001b[0m         client\u001b[38;5;241m=\u001b[39m\u001b[38;5;28mself\u001b[39m\u001b[38;5;241m.\u001b[39m_server,\n\u001b[1;32m    157\u001b[0m         model\u001b[38;5;241m=\u001b[39mmodel,\n\u001b[1;32m    158\u001b[0m         embedding_function\u001b[38;5;241m=\u001b[39membedding_function,\n\u001b[1;32m    159\u001b[0m         data_loader\u001b[38;5;241m=\u001b[39mdata_loader,\n\u001b[1;32m    160\u001b[0m     )\n",
      "File \u001b[0;32m~/anaconda3/lib/python3.12/site-packages/chromadb/telemetry/opentelemetry/__init__.py:150\u001b[0m, in \u001b[0;36mtrace_method.<locals>.decorator.<locals>.wrapper\u001b[0;34m(*args, **kwargs)\u001b[0m\n\u001b[1;32m    148\u001b[0m \u001b[38;5;28;01mglobal\u001b[39;00m tracer, granularity\n\u001b[1;32m    149\u001b[0m \u001b[38;5;28;01mif\u001b[39;00m trace_granularity \u001b[38;5;241m<\u001b[39m granularity:\n\u001b[0;32m--> 150\u001b[0m     \u001b[38;5;28;01mreturn\u001b[39;00m f(\u001b[38;5;241m*\u001b[39margs, \u001b[38;5;241m*\u001b[39m\u001b[38;5;241m*\u001b[39mkwargs)\n\u001b[1;32m    151\u001b[0m \u001b[38;5;28;01mif\u001b[39;00m \u001b[38;5;129;01mnot\u001b[39;00m tracer:\n\u001b[1;32m    152\u001b[0m     \u001b[38;5;28;01mreturn\u001b[39;00m f(\u001b[38;5;241m*\u001b[39margs, \u001b[38;5;241m*\u001b[39m\u001b[38;5;241m*\u001b[39mkwargs)\n",
      "File \u001b[0;32m~/anaconda3/lib/python3.12/site-packages/chromadb/api/segment.py:103\u001b[0m, in \u001b[0;36mrate_limit.<locals>.wrapper\u001b[0;34m(*args, **kwargs)\u001b[0m\n\u001b[1;32m    100\u001b[0m \u001b[38;5;129m@wraps\u001b[39m(func)\n\u001b[1;32m    101\u001b[0m \u001b[38;5;28;01mdef\u001b[39;00m \u001b[38;5;21mwrapper\u001b[39m(\u001b[38;5;241m*\u001b[39margs: Any, \u001b[38;5;241m*\u001b[39m\u001b[38;5;241m*\u001b[39mkwargs: Any) \u001b[38;5;241m-\u001b[39m\u001b[38;5;241m>\u001b[39m Any:\n\u001b[1;32m    102\u001b[0m     \u001b[38;5;28mself\u001b[39m \u001b[38;5;241m=\u001b[39m args[\u001b[38;5;241m0\u001b[39m]\n\u001b[0;32m--> 103\u001b[0m     \u001b[38;5;28;01mreturn\u001b[39;00m \u001b[38;5;28mself\u001b[39m\u001b[38;5;241m.\u001b[39m_rate_limit_enforcer\u001b[38;5;241m.\u001b[39mrate_limit(func)(\u001b[38;5;241m*\u001b[39margs, \u001b[38;5;241m*\u001b[39m\u001b[38;5;241m*\u001b[39mkwargs)\n",
      "File \u001b[0;32m~/anaconda3/lib/python3.12/site-packages/chromadb/rate_limit/simple_rate_limit/__init__.py:23\u001b[0m, in \u001b[0;36mSimpleRateLimitEnforcer.rate_limit.<locals>.wrapper\u001b[0;34m(*args, **kwargs)\u001b[0m\n\u001b[1;32m     21\u001b[0m \u001b[38;5;129m@wraps\u001b[39m(func)\n\u001b[1;32m     22\u001b[0m \u001b[38;5;28;01mdef\u001b[39;00m \u001b[38;5;21mwrapper\u001b[39m(\u001b[38;5;241m*\u001b[39margs: Any, \u001b[38;5;241m*\u001b[39m\u001b[38;5;241m*\u001b[39mkwargs: Any) \u001b[38;5;241m-\u001b[39m\u001b[38;5;241m>\u001b[39m Any:\n\u001b[0;32m---> 23\u001b[0m     \u001b[38;5;28;01mreturn\u001b[39;00m func(\u001b[38;5;241m*\u001b[39margs, \u001b[38;5;241m*\u001b[39m\u001b[38;5;241m*\u001b[39mkwargs)\n",
      "File \u001b[0;32m~/anaconda3/lib/python3.12/site-packages/chromadb/api/segment.py:226\u001b[0m, in \u001b[0;36mSegmentAPI.create_collection\u001b[0;34m(self, name, configuration, metadata, get_or_create, tenant, database)\u001b[0m\n\u001b[1;32m    213\u001b[0m model \u001b[38;5;241m=\u001b[39m CollectionModel(\n\u001b[1;32m    214\u001b[0m     \u001b[38;5;28mid\u001b[39m\u001b[38;5;241m=\u001b[39m\u001b[38;5;28mid\u001b[39m,\n\u001b[1;32m    215\u001b[0m     name\u001b[38;5;241m=\u001b[39mname,\n\u001b[0;32m   (...)\u001b[0m\n\u001b[1;32m    222\u001b[0m     dimension\u001b[38;5;241m=\u001b[39m\u001b[38;5;28;01mNone\u001b[39;00m,\n\u001b[1;32m    223\u001b[0m )\n\u001b[1;32m    225\u001b[0m \u001b[38;5;66;03m# TODO: Let sysdb create the collection directly from the model\u001b[39;00m\n\u001b[0;32m--> 226\u001b[0m coll, created \u001b[38;5;241m=\u001b[39m \u001b[38;5;28mself\u001b[39m\u001b[38;5;241m.\u001b[39m_sysdb\u001b[38;5;241m.\u001b[39mcreate_collection(\n\u001b[1;32m    227\u001b[0m     \u001b[38;5;28mid\u001b[39m\u001b[38;5;241m=\u001b[39mmodel\u001b[38;5;241m.\u001b[39mid,\n\u001b[1;32m    228\u001b[0m     name\u001b[38;5;241m=\u001b[39mmodel\u001b[38;5;241m.\u001b[39mname,\n\u001b[1;32m    229\u001b[0m     configuration\u001b[38;5;241m=\u001b[39mmodel\u001b[38;5;241m.\u001b[39mget_configuration(),\n\u001b[1;32m    230\u001b[0m     segments\u001b[38;5;241m=\u001b[39m[], \u001b[38;5;66;03m# Passing empty till backend changes are deployed.\u001b[39;00m\n\u001b[1;32m    231\u001b[0m     metadata\u001b[38;5;241m=\u001b[39mmodel\u001b[38;5;241m.\u001b[39mmetadata,\n\u001b[1;32m    232\u001b[0m     dimension\u001b[38;5;241m=\u001b[39m\u001b[38;5;28;01mNone\u001b[39;00m,  \u001b[38;5;66;03m# This is lazily populated on the first add\u001b[39;00m\n\u001b[1;32m    233\u001b[0m     get_or_create\u001b[38;5;241m=\u001b[39mget_or_create,\n\u001b[1;32m    234\u001b[0m     tenant\u001b[38;5;241m=\u001b[39mtenant,\n\u001b[1;32m    235\u001b[0m     database\u001b[38;5;241m=\u001b[39mdatabase,\n\u001b[1;32m    236\u001b[0m )\n\u001b[1;32m    238\u001b[0m \u001b[38;5;28;01mif\u001b[39;00m created:\n\u001b[1;32m    239\u001b[0m     segments \u001b[38;5;241m=\u001b[39m \u001b[38;5;28mself\u001b[39m\u001b[38;5;241m.\u001b[39m_manager\u001b[38;5;241m.\u001b[39mprepare_segments_for_new_collection(coll)\n",
      "File \u001b[0;32m~/anaconda3/lib/python3.12/site-packages/chromadb/telemetry/opentelemetry/__init__.py:150\u001b[0m, in \u001b[0;36mtrace_method.<locals>.decorator.<locals>.wrapper\u001b[0;34m(*args, **kwargs)\u001b[0m\n\u001b[1;32m    148\u001b[0m \u001b[38;5;28;01mglobal\u001b[39;00m tracer, granularity\n\u001b[1;32m    149\u001b[0m \u001b[38;5;28;01mif\u001b[39;00m trace_granularity \u001b[38;5;241m<\u001b[39m granularity:\n\u001b[0;32m--> 150\u001b[0m     \u001b[38;5;28;01mreturn\u001b[39;00m f(\u001b[38;5;241m*\u001b[39margs, \u001b[38;5;241m*\u001b[39m\u001b[38;5;241m*\u001b[39mkwargs)\n\u001b[1;32m    151\u001b[0m \u001b[38;5;28;01mif\u001b[39;00m \u001b[38;5;129;01mnot\u001b[39;00m tracer:\n\u001b[1;32m    152\u001b[0m     \u001b[38;5;28;01mreturn\u001b[39;00m f(\u001b[38;5;241m*\u001b[39margs, \u001b[38;5;241m*\u001b[39m\u001b[38;5;241m*\u001b[39mkwargs)\n",
      "File \u001b[0;32m~/anaconda3/lib/python3.12/site-packages/chromadb/db/mixins/sysdb.py:241\u001b[0m, in \u001b[0;36mSqlSysDB.create_collection\u001b[0;34m(self, id, name, configuration, segments, metadata, dimension, get_or_create, tenant, database)\u001b[0m\n\u001b[1;32m    234\u001b[0m         \u001b[38;5;28;01mreturn\u001b[39;00m (\n\u001b[1;32m    235\u001b[0m             \u001b[38;5;28mself\u001b[39m\u001b[38;5;241m.\u001b[39mget_collections(\n\u001b[1;32m    236\u001b[0m                 \u001b[38;5;28mid\u001b[39m\u001b[38;5;241m=\u001b[39mcollection\u001b[38;5;241m.\u001b[39mid, tenant\u001b[38;5;241m=\u001b[39mtenant, database\u001b[38;5;241m=\u001b[39mdatabase\n\u001b[1;32m    237\u001b[0m             )[\u001b[38;5;241m0\u001b[39m],\n\u001b[1;32m    238\u001b[0m             \u001b[38;5;28;01mFalse\u001b[39;00m,\n\u001b[1;32m    239\u001b[0m         )\n\u001b[1;32m    240\u001b[0m     \u001b[38;5;28;01melse\u001b[39;00m:\n\u001b[0;32m--> 241\u001b[0m         \u001b[38;5;28;01mraise\u001b[39;00m UniqueConstraintError(\u001b[38;5;124mf\u001b[39m\u001b[38;5;124m\"\u001b[39m\u001b[38;5;124mCollection \u001b[39m\u001b[38;5;132;01m{\u001b[39;00mname\u001b[38;5;132;01m}\u001b[39;00m\u001b[38;5;124m already exists\u001b[39m\u001b[38;5;124m\"\u001b[39m)\n\u001b[1;32m    243\u001b[0m collection \u001b[38;5;241m=\u001b[39m Collection(\n\u001b[1;32m    244\u001b[0m     \u001b[38;5;28mid\u001b[39m\u001b[38;5;241m=\u001b[39m\u001b[38;5;28mid\u001b[39m,\n\u001b[1;32m    245\u001b[0m     name\u001b[38;5;241m=\u001b[39mname,\n\u001b[0;32m   (...)\u001b[0m\n\u001b[1;32m    251\u001b[0m     version\u001b[38;5;241m=\u001b[39m\u001b[38;5;241m0\u001b[39m,\n\u001b[1;32m    252\u001b[0m )\n\u001b[1;32m    254\u001b[0m \u001b[38;5;28;01mwith\u001b[39;00m \u001b[38;5;28mself\u001b[39m\u001b[38;5;241m.\u001b[39mtx() \u001b[38;5;28;01mas\u001b[39;00m cur:\n",
      "\u001b[0;31mUniqueConstraintError\u001b[0m: Collection mdd_documents already exists"
     ]
    }
   ],
   "source": [
    "from sentence_transformers import SentenceTransformer\n",
    "from chromadb.config import Settings\n",
    "import chromadb\n",
    "\n",
    "# Initialize ChromaDB client\n",
    "client = chromadb.Client(Settings(persist_directory=\"./chroma_db\"))\n",
    "#client.delete_collection(\"mdd_documents\")\n",
    "collection = client.create_collection(\"mdd_documents\")\n",
    "\n",
    "# Initialize embedding model\n",
    "embedding_model = SentenceTransformer('all-MiniLM-L6-v2')\n",
    "\n",
    "# Sample chunks\n",
    "chunks = [\"This is a sample text chunk.\", \"Another example text chunk.\"]\n",
    "\n",
    "# Generate embeddings\n",
    "embeddings = embedding_model.encode(chunks)\n",
    "print(\"Generated Embeddings:\", embeddings)\n",
    "\n",
    "# Add data to ChromaDB\n",
    "try:\n",
    "    collection.add(\n",
    "        documents=chunks,\n",
    "        metadatas=[{\"source\": \"example\"}] * len(chunks),\n",
    "        ids=[f\"chunk_{i}\" for i in range(len(chunks))],\n",
    "        embeddings=embeddings\n",
    "    )\n",
    "    print(\"Data added successfully!\")\n",
    "except Exception as e:\n",
    "    print(\"Error during collection.add:\", e)\n",
    "\n",
    "# Verify data storage\n",
    "results = collection.get()\n",
    "print(\"Stored Documents:\", results['documents'])\n",
    "print(\"Stored Embeddings:\", results['embeddings'])"
   ]
  },
  {
   "cell_type": "code",
   "execution_count": 16,
   "id": "36124a36-c57f-4893-a83a-7a81ba2e44a1",
   "metadata": {},
   "outputs": [
    {
     "name": "stdout",
     "output_type": "stream",
     "text": [
      "Embeddings after conversion: [[-0.07509703189134598, 0.011735109612345695, -0.11484101414680481, 0.014006971381604671, 0.043289050459861755, 0.022889211773872375, -0.06416798382997513, -0.07316508889198303, -0.011926484294235706, -0.06236734986305237, 0.0305247213691473, 0.020145677030086517, -0.021821364760398865, 0.0675240010023117, -0.08251602202653885, -0.07407315075397491, -0.006089227274060249, -0.009286468848586082, -0.015429884195327759, 0.010454577393829823, -0.06351148337125778, 0.00947635993361473, 0.05424356833100319, -0.06095799803733826, 0.02451484091579914, 0.014731395058333874, -0.08567409217357635, -0.019528936594724655, -0.047693781554698944, -0.0665004774928093, 0.13235275447368622, 0.040752869099378586, -0.002039692597463727, 0.018103132024407387, 0.10665436834096909, 0.0404617004096508, -0.04403768852353096, -0.03459400683641434, 0.11434750258922577, 0.0015258570201694965, 0.02626088447868824, -0.078119657933712, 0.01841156743466854, 0.026508690789341927, 0.014453358948230743, -0.043928977102041245, -0.022665580734610558, 0.019501201808452606, 0.04861397296190262, 0.06800808757543564, -0.019904235377907753, 0.044140223413705826, -0.03426440805196762, 0.03851895406842232, 0.1286485195159912, -0.030523741617798805, 0.07302623242139816, 0.004500234499573708, -0.06151948869228363, -0.06665029376745224, -0.02162153646349907, -0.06363052874803543, -0.05872603878378868, 0.018094314262270927, -0.0017041527898982167, 0.08079616725444794, -0.04505876824259758, 0.10219679772853851, -0.017643168568611145, 0.02031734026968479, -0.014311136677861214, 0.10187587887048721, -0.0025615012273192406, 0.01866321824491024, 0.01784718595445156, -0.012321664951741695, 0.008469132706522942, 0.015427120961248875, -0.03143401816487312, -0.1390385627746582, 0.02257140353322029, 0.007748221978545189, 0.05434659868478775, 0.02879801206290722, 0.045181188732385635, -0.10971783101558685, 0.032431572675704956, -0.018430832773447037, -0.06058482080698013, -0.001647627679631114, 0.04424966871738434, 0.0672379732131958, -0.014368542470037937, 0.013158353976905346, -0.054070524871349335, 0.04435563459992409, 0.043972186744213104, -0.08616030216217041, 0.017956091091036797, 0.1028505265712738, 0.00010592633771011606, -0.018401574343442917, 0.05733002722263336, -0.09561523795127869, -0.10869917273521423, -0.07437855750322342, 0.07181684672832489, -0.02385072037577629, -0.0013405239442363381, -0.09103463590145111, 0.02391880191862583, -0.007895994931459427, -0.031640924513339996, -0.018620217218995094, 0.015100616030395031, -0.04608410969376564, -0.007929887622594833, -0.06521454453468323, -0.057465121150016785, -0.0037896917201578617, -0.11711462587118149, 0.0533524826169014, -0.05874108895659447, 0.10096050798892975, -0.05493120476603508, 0.012663810513913631, -0.0017031932948157191, -1.386111255243467e-33, -0.0651671439409256, -0.003200656035915017, -0.07515887171030045, -0.022519513964653015, 0.06003658473491669, 0.013258088380098343, -0.04644446447491646, -0.03936920315027237, -0.006313120946288109, -0.009777580387890339, -0.06950406730175018, 0.02567880041897297, -0.08660583943128586, 0.06612422317266464, -0.03138614818453789, -0.022811800241470337, -0.030974512919783592, 0.09609325230121613, -0.0162050798535347, -0.010157311335206032, 0.0033061362337321043, 0.0020688557997345924, 0.016437413170933723, 0.0317598395049572, -0.025778878480196, 0.06878737360239029, 0.008918448351323605, -0.0010154524352401495, -0.03218156099319458, 0.006975691299885511, -0.026861922815442085, 0.04449847340583801, 0.014549127779901028, 0.007381374482065439, 0.033022571355104446, -0.00690329447388649, 0.01719718798995018, -0.004300572443753481, -0.0006178148905746639, -0.04932985082268715, -0.04518313705921173, 0.030511777848005295, 0.03228821977972984, 0.018041515722870827, -0.09353163838386536, -0.010542375966906548, 0.041478436440229416, -0.09673719108104706, 0.05971110984683037, -0.07715262472629547, 0.009710152633488178, -0.05648663267493248, -0.012079930864274502, -0.023917419835925102, 0.008711311034858227, -0.003283035010099411, -0.0065159667283296585, -0.01926368661224842, 0.023689109832048416, -0.02298581413924694, 0.09933117777109146, 0.01631709188222885, -0.048884667456150055, -0.0417533703148365, -0.024790843948721886, -0.022161144763231277, -0.011495858430862427, 0.0796140655875206, 0.10839048773050308, -0.031122293323278427, 0.011661176569759846, 0.029990583658218384, 0.08810529112815857, -0.07867074012756348, 0.05656348541378975, 0.08108993619680405, 0.007368598598986864, 0.06350011378526688, 0.04499538242816925, -0.021517949178814888, -0.01791909523308277, 0.03317534923553467, 0.08140669763088226, -0.0631316527724266, -0.030116308480501175, 0.03824460506439209, -0.014683806337416172, -0.04972738027572632, -0.015362364239990711, 0.023658230900764465, -0.004945884924381971, -0.019024474546313286, -0.019210627302527428, -0.05813950300216675, 0.09506110101938248, -6.5748668385153765e-34, -0.1002727523446083, 0.018450209870934486, -0.059589728713035583, 0.05298493802547455, 0.01890496164560318, 0.0754823237657547, -0.17756062746047974, 0.0027156553696841, 0.023537781089544296, 0.007982359267771244, -0.007817023433744907, -0.029582062736153603, -0.0963919386267662, -0.08187621086835861, -0.01917646825313568, -0.11016865819692612, 0.031021686270833015, -0.02475319616496563, 0.032332245260477066, 0.016272377222776413, 0.0022902339696884155, 0.05123353749513626, -0.02248975820839405, 0.08880576491355896, 0.0063136182725429535, -0.0039588999934494495, 0.006242899224162102, 0.015810368582606316, -0.05024224519729614, -0.01600973680615425, -0.021235093474388123, -0.039116304367780685, -0.03337346017360687, 0.10906927287578583, -0.01189395971596241, 0.027480952441692352, 0.003904060460627079, 0.025411760434508324, -0.012499287724494934, -0.024099504575133324, 0.06069634109735489, 0.07386773824691772, -0.00813013594597578, -0.059793535619974136, 0.004889790900051594, -0.02806064486503601, -0.03141055256128311, 0.04393188655376434, 0.07785547524690628, 0.004276119638234377, -0.0008104384760372341, 0.014813104644417763, -0.05328468605875969, -0.034742437303066254, -0.10206354409456253, 0.045070942491292953, -0.014676273800432682, -0.03366551175713539, 0.00015662422811146826, 0.08267771452665329, -0.07206438481807709, -0.014012330211699009, -0.012190839275717735, -0.01786300353705883, -0.00011676613212330267, 0.011586470529437065, -0.12323001027107239, 0.014723745174705982, 0.034797828644514084, 0.05473310500383377, 0.0867471918463707, -0.09741104394197464, 0.03019341640174389, 0.031167441979050636, 0.0019983358215540648, -0.02883080765604973, 0.014101486653089523, 0.019059985876083374, 0.020371822640299797, 0.019299933686852455, 0.034366507083177567, 0.02382577396929264, -0.024766385555267334, 0.0706031322479248, 0.01999659836292267, 0.05272246524691582, -0.005187862552702427, -0.061345916241407394, 0.017274217680096626, -0.026614408940076828, 0.047088347375392914, 0.08520087599754333, -0.004633339587599039, -0.029478784650564194, 0.006258576177060604, -1.6832897742347086e-08, -0.04338531941175461, 0.0669267550110817, 0.023965641856193542, -0.005768665112555027, 0.12522515654563904, 0.04211653023958206, -0.0037885464262217283, 0.10767515748739243, -0.05886000022292137, -0.005833419505506754, 0.09402340650558472, -0.08492773026227951, -0.03528131544589996, -0.09397543966770172, -0.03647478297352791, 0.05631261318922043, 0.03004690818488598, 0.022221364080905914, -0.03575286641716957, 0.013462568633258343, 0.05592268705368042, 0.04971693083643913, -0.007970166392624378, -0.005077804904431105, -0.02837742678821087, -0.0684182345867157, -0.022973624989390373, 0.06372901052236557, 0.042026832699775696, -0.003254442708566785, -0.014047738164663315, 0.01666601561009884, -0.07991506159305573, 0.019042758271098137, 0.0021136910654604435, 0.12156228721141815, 0.1010909304022789, 0.021377164870500565, -0.03919102996587753, 0.0030989807564765215, 0.04144114628434181, 0.02360444702208042, -0.03354301303625107, -0.02808845415711403, -0.03636929392814636, 0.02076164074242115, -0.010704687796533108, -0.038551270961761475, 0.041099656373262405, 0.01654309220612049, 0.036390479654073715, -0.02348085679113865, 0.034908127039670944, 0.10054835677146912, -0.07666464149951935, -0.02374974824488163, 0.03170669078826904, 0.061578169465065, 0.016963327303528786, 0.05820197984576225, 0.04773208498954773, -0.02043619006872177, 0.03907253220677376, 0.09115147590637207]]\n"
     ]
    }
   ],
   "source": [
    "import numpy as np\n",
    "\n",
    "# Ensure embeddings are in the correct format\n",
    "if isinstance(embeddings, np.ndarray):\n",
    "    embeddings = embeddings.tolist()\n",
    "\n",
    "print(\"Embeddings after conversion:\", embeddings)"
   ]
  },
  {
   "cell_type": "code",
   "execution_count": 17,
   "id": "5db8d575-395f-44cb-9c32-d96369c3825f",
   "metadata": {},
   "outputs": [
    {
     "name": "stdout",
     "output_type": "stream",
     "text": [
      "Number of documents: 1\n",
      "Number of embeddings: 1\n"
     ]
    }
   ],
   "source": [
    "print(\"Number of documents:\", len(chunks))\n",
    "print(\"Number of embeddings:\", len(embeddings))\n",
    "\n",
    "if len(chunks) != len(embeddings):\n",
    "    print(\"Mismatch between documents and embeddings!\")"
   ]
  },
  {
   "cell_type": "code",
   "execution_count": 18,
   "id": "e47ff114-55a1-46c2-895c-5e6f5ade41e4",
   "metadata": {},
   "outputs": [
    {
     "name": "stdout",
     "output_type": "stream",
     "text": [
      "Data added successfully!\n"
     ]
    }
   ],
   "source": [
    "try:\n",
    "    collection.add(\n",
    "        documents=chunks,\n",
    "        metadatas=[{\"source\": \"example\"}] * len(chunks),\n",
    "        ids=[f\"chunk_{i}\" for i in range(len(chunks))],\n",
    "        embeddings=embeddings\n",
    "    )\n",
    "    print(\"Data added successfully!\")\n",
    "except Exception as e:\n",
    "    print(\"Error during collection.add:\", e)"
   ]
  },
  {
   "cell_type": "code",
   "execution_count": 21,
   "id": "30578c98-93a6-4c70-b9c9-4a3fff9e1a34",
   "metadata": {},
   "outputs": [],
   "source": [
    "collection.add(\n",
    "    ids=['ddd'],\n",
    "    documents=chunks,\n",
    "    embeddings=embeddings\n",
    ")"
   ]
  },
  {
   "cell_type": "code",
   "execution_count": 24,
   "id": "a0a802e3-c2ea-4fe9-bf00-187d0cdb4417",
   "metadata": {},
   "outputs": [],
   "source": [
    "results = collection.get(ids=['ddd'])"
   ]
  },
  {
   "cell_type": "code",
   "execution_count": 25,
   "id": "25109f56-b226-4e09-b750-4ebc70df8825",
   "metadata": {},
   "outputs": [
    {
     "data": {
      "text/plain": [
       "{'ids': ['ddd'],\n",
       " 'embeddings': None,\n",
       " 'documents': ['DeepPDF: A Deep Learning Approach to Analyzing PDFs\\nChristopher Stahl...'],\n",
       " 'uris': None,\n",
       " 'data': None,\n",
       " 'metadatas': [None],\n",
       " 'included': [<IncludeEnum.documents: 'documents'>,\n",
       "  <IncludeEnum.metadatas: 'metadatas'>]}"
      ]
     },
     "execution_count": 25,
     "metadata": {},
     "output_type": "execute_result"
    }
   ],
   "source": [
    "results"
   ]
  },
  {
   "cell_type": "code",
   "execution_count": 3,
   "id": "2488f8bd-40ac-46ae-855a-912c1e76b5b8",
   "metadata": {},
   "outputs": [
    {
     "ename": "ValueError",
     "evalue": "An instance of Chroma already exists for ephemeral with different settings",
     "output_type": "error",
     "traceback": [
      "\u001b[0;31m---------------------------------------------------------------------------\u001b[0m",
      "\u001b[0;31mValueError\u001b[0m                                Traceback (most recent call last)",
      "Cell \u001b[0;32mIn[3], line 9\u001b[0m\n\u001b[1;32m      6\u001b[0m temp_dir \u001b[38;5;241m=\u001b[39m tempfile\u001b[38;5;241m.\u001b[39mTemporaryDirectory()\n\u001b[1;32m      8\u001b[0m \u001b[38;5;66;03m# Initialize ChromaDB client\u001b[39;00m\n\u001b[0;32m----> 9\u001b[0m client \u001b[38;5;241m=\u001b[39m chromadb\u001b[38;5;241m.\u001b[39mClient(Settings(allow_reset\u001b[38;5;241m=\u001b[39m\u001b[38;5;28;01mTrue\u001b[39;00m))\n\u001b[1;32m     11\u001b[0m \u001b[38;5;66;03m# Use ChromaDB (add collections, documents, etc.)\u001b[39;00m\n\u001b[1;32m     12\u001b[0m collection \u001b[38;5;241m=\u001b[39m client\u001b[38;5;241m.\u001b[39mcreate_collection(\u001b[38;5;124m\"\u001b[39m\u001b[38;5;124mmdd_documents\u001b[39m\u001b[38;5;124m\"\u001b[39m)\n",
      "File \u001b[0;32m~/anaconda3/lib/python3.12/site-packages/chromadb/__init__.py:334\u001b[0m, in \u001b[0;36mClient\u001b[0;34m(settings, tenant, database)\u001b[0m\n\u001b[1;32m    331\u001b[0m tenant \u001b[38;5;241m=\u001b[39m \u001b[38;5;28mstr\u001b[39m(tenant)\n\u001b[1;32m    332\u001b[0m database \u001b[38;5;241m=\u001b[39m \u001b[38;5;28mstr\u001b[39m(database)\n\u001b[0;32m--> 334\u001b[0m \u001b[38;5;28;01mreturn\u001b[39;00m ClientCreator(tenant\u001b[38;5;241m=\u001b[39mtenant, database\u001b[38;5;241m=\u001b[39mdatabase, settings\u001b[38;5;241m=\u001b[39msettings)\n",
      "File \u001b[0;32m~/anaconda3/lib/python3.12/site-packages/chromadb/api/client.py:58\u001b[0m, in \u001b[0;36mClient.__init__\u001b[0;34m(self, tenant, database, settings)\u001b[0m\n\u001b[1;32m     52\u001b[0m \u001b[38;5;28;01mdef\u001b[39;00m \u001b[38;5;21m__init__\u001b[39m(\n\u001b[1;32m     53\u001b[0m     \u001b[38;5;28mself\u001b[39m,\n\u001b[1;32m     54\u001b[0m     tenant: \u001b[38;5;28mstr\u001b[39m \u001b[38;5;241m=\u001b[39m DEFAULT_TENANT,\n\u001b[1;32m     55\u001b[0m     database: \u001b[38;5;28mstr\u001b[39m \u001b[38;5;241m=\u001b[39m DEFAULT_DATABASE,\n\u001b[1;32m     56\u001b[0m     settings: Settings \u001b[38;5;241m=\u001b[39m Settings(),\n\u001b[1;32m     57\u001b[0m ) \u001b[38;5;241m-\u001b[39m\u001b[38;5;241m>\u001b[39m \u001b[38;5;28;01mNone\u001b[39;00m:\n\u001b[0;32m---> 58\u001b[0m     \u001b[38;5;28msuper\u001b[39m()\u001b[38;5;241m.\u001b[39m\u001b[38;5;21m__init__\u001b[39m(settings\u001b[38;5;241m=\u001b[39msettings)\n\u001b[1;32m     59\u001b[0m     \u001b[38;5;28mself\u001b[39m\u001b[38;5;241m.\u001b[39mtenant \u001b[38;5;241m=\u001b[39m tenant\n\u001b[1;32m     60\u001b[0m     \u001b[38;5;28mself\u001b[39m\u001b[38;5;241m.\u001b[39mdatabase \u001b[38;5;241m=\u001b[39m database\n",
      "File \u001b[0;32m~/anaconda3/lib/python3.12/site-packages/chromadb/api/shared_system_client.py:19\u001b[0m, in \u001b[0;36mSharedSystemClient.__init__\u001b[0;34m(self, settings)\u001b[0m\n\u001b[1;32m     14\u001b[0m \u001b[38;5;28;01mdef\u001b[39;00m \u001b[38;5;21m__init__\u001b[39m(\n\u001b[1;32m     15\u001b[0m     \u001b[38;5;28mself\u001b[39m,\n\u001b[1;32m     16\u001b[0m     settings: Settings \u001b[38;5;241m=\u001b[39m Settings(),\n\u001b[1;32m     17\u001b[0m ) \u001b[38;5;241m-\u001b[39m\u001b[38;5;241m>\u001b[39m \u001b[38;5;28;01mNone\u001b[39;00m:\n\u001b[1;32m     18\u001b[0m     \u001b[38;5;28mself\u001b[39m\u001b[38;5;241m.\u001b[39m_identifier \u001b[38;5;241m=\u001b[39m SharedSystemClient\u001b[38;5;241m.\u001b[39m_get_identifier_from_settings(settings)\n\u001b[0;32m---> 19\u001b[0m     SharedSystemClient\u001b[38;5;241m.\u001b[39m_create_system_if_not_exists(\u001b[38;5;28mself\u001b[39m\u001b[38;5;241m.\u001b[39m_identifier, settings)\n",
      "File \u001b[0;32m~/anaconda3/lib/python3.12/site-packages/chromadb/api/shared_system_client.py:38\u001b[0m, in \u001b[0;36mSharedSystemClient._create_system_if_not_exists\u001b[0;34m(cls, identifier, settings)\u001b[0m\n\u001b[1;32m     36\u001b[0m     \u001b[38;5;66;03m# For now, the settings must match\u001b[39;00m\n\u001b[1;32m     37\u001b[0m     \u001b[38;5;28;01mif\u001b[39;00m previous_system\u001b[38;5;241m.\u001b[39msettings \u001b[38;5;241m!=\u001b[39m settings:\n\u001b[0;32m---> 38\u001b[0m         \u001b[38;5;28;01mraise\u001b[39;00m \u001b[38;5;167;01mValueError\u001b[39;00m(\n\u001b[1;32m     39\u001b[0m             \u001b[38;5;124mf\u001b[39m\u001b[38;5;124m\"\u001b[39m\u001b[38;5;124mAn instance of Chroma already exists for \u001b[39m\u001b[38;5;132;01m{\u001b[39;00midentifier\u001b[38;5;132;01m}\u001b[39;00m\u001b[38;5;124m with different settings\u001b[39m\u001b[38;5;124m\"\u001b[39m\n\u001b[1;32m     40\u001b[0m         )\n\u001b[1;32m     42\u001b[0m \u001b[38;5;28;01mreturn\u001b[39;00m \u001b[38;5;28mcls\u001b[39m\u001b[38;5;241m.\u001b[39m_identifier_to_system[identifier]\n",
      "\u001b[0;31mValueError\u001b[0m: An instance of Chroma already exists for ephemeral with different settings"
     ]
    }
   ],
   "source": [
    "import tempfile\n",
    "from chromadb.config import Settings\n",
    "import chromadb\n",
    "\n",
    "# Create a temporary directory for ephemeral storage\n",
    "temp_dir = tempfile.TemporaryDirectory()\n",
    "\n",
    "# Initialize ChromaDB client\n",
    "client = chromadb.Client (Settings(allow_reset=True))\n",
    "\n",
    "# Use ChromaDB (add collections, documents, etc.)\n",
    "collection = client.create_collection(\"mdd_documents\")\n",
    "\n",
    "# Clean up the temporary directory when done\n",
    "\n",
    "# Add documents and embeddings\n",
    "collection.add(\n",
    "    documents=[\"Example document 1\", \"Example document 2\"],\n",
    "    metadatas=[{\"source\": \"example\"}] * 2,\n",
    "    ids=[\"doc1\", \"doc2\"],\n",
    "    embeddings=[[0.1, 0.2, 0.3], [0.4, 0.5, 0.6]]\n",
    ")\n",
    "\n",
    "# Verify stored data\n",
    "results = collection.get()\n",
    "print(\"Documents:\", results['documents'])\n",
    "print(\"Embeddings:\", results['embeddings'])"
   ]
  },
  {
   "cell_type": "code",
   "execution_count": 2,
   "id": "99bd0c86-da6a-425b-a8e7-f12c16642282",
   "metadata": {},
   "outputs": [
    {
     "ename": "ValueError",
     "evalue": "Resetting is not allowed by this configuration (to enable it, set `allow_reset` to `True` in your Settings() or include `ALLOW_RESET=TRUE` in your environment variables)",
     "output_type": "error",
     "traceback": [
      "\u001b[0;31m---------------------------------------------------------------------------\u001b[0m",
      "\u001b[0;31mValueError\u001b[0m                                Traceback (most recent call last)",
      "Cell \u001b[0;32mIn[2], line 1\u001b[0m\n\u001b[0;32m----> 1\u001b[0m client\u001b[38;5;241m.\u001b[39mreset()\n",
      "File \u001b[0;32m~/anaconda3/lib/python3.12/site-packages/chromadb/api/client.py:386\u001b[0m, in \u001b[0;36mClient.reset\u001b[0;34m(self)\u001b[0m\n\u001b[1;32m    384\u001b[0m \u001b[38;5;129m@override\u001b[39m\n\u001b[1;32m    385\u001b[0m \u001b[38;5;28;01mdef\u001b[39;00m \u001b[38;5;21mreset\u001b[39m(\u001b[38;5;28mself\u001b[39m) \u001b[38;5;241m-\u001b[39m\u001b[38;5;241m>\u001b[39m \u001b[38;5;28mbool\u001b[39m:\n\u001b[0;32m--> 386\u001b[0m     \u001b[38;5;28;01mreturn\u001b[39;00m \u001b[38;5;28mself\u001b[39m\u001b[38;5;241m.\u001b[39m_server\u001b[38;5;241m.\u001b[39mreset()\n",
      "File \u001b[0;32m~/anaconda3/lib/python3.12/site-packages/chromadb/api/segment.py:840\u001b[0m, in \u001b[0;36mSegmentAPI.reset\u001b[0;34m(self)\u001b[0m\n\u001b[1;32m    838\u001b[0m \u001b[38;5;129m@override\u001b[39m\n\u001b[1;32m    839\u001b[0m \u001b[38;5;28;01mdef\u001b[39;00m \u001b[38;5;21mreset\u001b[39m(\u001b[38;5;28mself\u001b[39m) \u001b[38;5;241m-\u001b[39m\u001b[38;5;241m>\u001b[39m \u001b[38;5;28mbool\u001b[39m:\n\u001b[0;32m--> 840\u001b[0m     \u001b[38;5;28mself\u001b[39m\u001b[38;5;241m.\u001b[39m_system\u001b[38;5;241m.\u001b[39mreset_state()\n\u001b[1;32m    841\u001b[0m     \u001b[38;5;28;01mreturn\u001b[39;00m \u001b[38;5;28;01mTrue\u001b[39;00m\n",
      "File \u001b[0;32m~/anaconda3/lib/python3.12/site-packages/chromadb/config.py:456\u001b[0m, in \u001b[0;36mSystem.reset_state\u001b[0;34m(self)\u001b[0m\n\u001b[1;32m    454\u001b[0m \u001b[38;5;250m\u001b[39m\u001b[38;5;124;03m\"\"\"Reset the state of this system and all constituents in reverse dependency order\"\"\"\u001b[39;00m\n\u001b[1;32m    455\u001b[0m \u001b[38;5;28;01mif\u001b[39;00m \u001b[38;5;129;01mnot\u001b[39;00m \u001b[38;5;28mself\u001b[39m\u001b[38;5;241m.\u001b[39msettings\u001b[38;5;241m.\u001b[39mallow_reset:\n\u001b[0;32m--> 456\u001b[0m     \u001b[38;5;28;01mraise\u001b[39;00m \u001b[38;5;167;01mValueError\u001b[39;00m(\n\u001b[1;32m    457\u001b[0m         \u001b[38;5;124m\"\u001b[39m\u001b[38;5;124mResetting is not allowed by this configuration (to enable it, set `allow_reset` to `True` in your Settings() or include `ALLOW_RESET=TRUE` in your environment variables)\u001b[39m\u001b[38;5;124m\"\u001b[39m\n\u001b[1;32m    458\u001b[0m     )\n\u001b[1;32m    459\u001b[0m \u001b[38;5;28;01mfor\u001b[39;00m component \u001b[38;5;129;01min\u001b[39;00m \u001b[38;5;28mreversed\u001b[39m(\u001b[38;5;28mlist\u001b[39m(\u001b[38;5;28mself\u001b[39m\u001b[38;5;241m.\u001b[39mcomponents())):\n\u001b[1;32m    460\u001b[0m     component\u001b[38;5;241m.\u001b[39mreset_state()\n",
      "\u001b[0;31mValueError\u001b[0m: Resetting is not allowed by this configuration (to enable it, set `allow_reset` to `True` in your Settings() or include `ALLOW_RESET=TRUE` in your environment variables)"
     ]
    }
   ],
   "source": [
    "client.reset()"
   ]
  },
  {
   "cell_type": "code",
   "execution_count": null,
   "id": "822b3b58-8feb-442b-8e09-73830aef43f8",
   "metadata": {},
   "outputs": [],
   "source": []
  }
 ],
 "metadata": {
  "kernelspec": {
   "display_name": "Python 3 (ipykernel)",
   "language": "python",
   "name": "python3"
  },
  "language_info": {
   "codemirror_mode": {
    "name": "ipython",
    "version": 3
   },
   "file_extension": ".py",
   "mimetype": "text/x-python",
   "name": "python",
   "nbconvert_exporter": "python",
   "pygments_lexer": "ipython3",
   "version": "3.12.2"
  }
 },
 "nbformat": 4,
 "nbformat_minor": 5
}
