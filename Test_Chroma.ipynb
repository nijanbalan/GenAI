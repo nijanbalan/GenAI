{
 "cells": [
  {
   "cell_type": "code",
   "execution_count": 25,
   "id": "06b6e1fa-3aa7-44b9-b259-1c796b31352d",
   "metadata": {},
   "outputs": [],
   "source": [
    "import chromadb"
   ]
  },
  {
   "cell_type": "code",
   "execution_count": 26,
   "id": "cdcf9106-7677-48a1-ba6f-dede1a8dfb4a",
   "metadata": {},
   "outputs": [],
   "source": [
    "client = chromadb.Client()\n",
    "collection = client.create_collection(name = 'my_chroma',get_or_create=True)"
   ]
  },
  {
   "cell_type": "code",
   "execution_count": 31,
   "id": "f7c1b8d4-9198-4b7e-a93e-df67f422518c",
   "metadata": {},
   "outputs": [],
   "source": [
    "collection.add(\n",
    "    documents= ['This document about New York.',\n",
    "                'This document about Delhi'],\n",
    "    ids=['id3','id4'], \n",
    ")"
   ]
  },
  {
   "cell_type": "code",
   "execution_count": 32,
   "id": "2b8f379f-1740-4469-9582-9e39644dc001",
   "metadata": {},
   "outputs": [],
   "source": [
    "all_docs = collection.get()"
   ]
  },
  {
   "cell_type": "code",
   "execution_count": 33,
   "id": "58b24933-23a5-41cd-a64f-d639e1da6c02",
   "metadata": {},
   "outputs": [
    {
     "data": {
      "text/plain": [
       "{'ids': ['id1', 'id2', 'id3', 'id4'],\n",
       " 'embeddings': None,\n",
       " 'documents': ['This is about Harry porter book.',\n",
       "  'This book is about Tempest by Shakespear',\n",
       "  'This document about New York.',\n",
       "  'This document about Delhi'],\n",
       " 'uris': None,\n",
       " 'data': None,\n",
       " 'metadatas': [None, None, None, None],\n",
       " 'included': [<IncludeEnum.documents: 'documents'>,\n",
       "  <IncludeEnum.metadatas: 'metadatas'>]}"
      ]
     },
     "execution_count": 33,
     "metadata": {},
     "output_type": "execute_result"
    }
   ],
   "source": [
    "all_docs"
   ]
  },
  {
   "cell_type": "code",
   "execution_count": 34,
   "id": "b68493fb-862b-4d48-9d81-80f70f745424",
   "metadata": {},
   "outputs": [
    {
     "data": {
      "text/plain": [
       "{'ids': ['id1'],\n",
       " 'embeddings': None,\n",
       " 'documents': ['This is about Harry porter book.'],\n",
       " 'uris': None,\n",
       " 'data': None,\n",
       " 'metadatas': [None],\n",
       " 'included': [<IncludeEnum.documents: 'documents'>,\n",
       "  <IncludeEnum.metadatas: 'metadatas'>]}"
      ]
     },
     "execution_count": 34,
     "metadata": {},
     "output_type": "execute_result"
    }
   ],
   "source": [
    "collection.get(ids='id1')"
   ]
  },
  {
   "cell_type": "code",
   "execution_count": 37,
   "id": "8c02945e-b04a-491e-867b-0a94b160b5f0",
   "metadata": {},
   "outputs": [
    {
     "name": "stderr",
     "output_type": "stream",
     "text": [
      "Number of requested results 10 is greater than number of elements in index 4, updating n_results = 4\n"
     ]
    },
    {
     "data": {
      "text/plain": [
       "{'ids': [['id4', 'id3', 'id1', 'id2']],\n",
       " 'embeddings': None,\n",
       " 'documents': [['This document about Delhi',\n",
       "   'This document about New York.',\n",
       "   'This is about Harry porter book.',\n",
       "   'This book is about Tempest by Shakespear']],\n",
       " 'uris': None,\n",
       " 'data': None,\n",
       " 'metadatas': [[None, None, None, None]],\n",
       " 'distances': [[0.44170066714286804,\n",
       "   1.5528292655944824,\n",
       "   1.6816539764404297,\n",
       "   1.7373772859573364]],\n",
       " 'included': [<IncludeEnum.distances: 'distances'>,\n",
       "  <IncludeEnum.documents: 'documents'>,\n",
       "  <IncludeEnum.metadatas: 'metadatas'>]}"
      ]
     },
     "execution_count": 37,
     "metadata": {},
     "output_type": "execute_result"
    }
   ],
   "source": [
    "collection.query(query_texts=['Looking for some doc about delhi'])"
   ]
  },
  {
   "cell_type": "code",
   "execution_count": null,
   "id": "b33e950e-6b3a-4508-8064-2e1bea818261",
   "metadata": {},
   "outputs": [],
   "source": []
  }
 ],
 "metadata": {
  "kernelspec": {
   "display_name": "Python 3 (ipykernel)",
   "language": "python",
   "name": "python3"
  },
  "language_info": {
   "codemirror_mode": {
    "name": "ipython",
    "version": 3
   },
   "file_extension": ".py",
   "mimetype": "text/x-python",
   "name": "python",
   "nbconvert_exporter": "python",
   "pygments_lexer": "ipython3",
   "version": "3.12.4"
  }
 },
 "nbformat": 4,
 "nbformat_minor": 5
}
